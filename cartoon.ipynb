{
 "cells": [
  {
   "cell_type": "code",
   "execution_count": 8,
   "id": "ff0c63d0-addb-4b21-be9a-990b93397a93",
   "metadata": {},
   "outputs": [
    {
     "name": "stdout",
     "output_type": "stream",
     "text": [
      "Cartoonized image saved at output_cartoon.jpg\n"
     ]
    }
   ],
   "source": [
    "import cv2\n",
    "import numpy as np\n",
    "\n",
    "def cartoonize_image(image_path, output_path):\n",
    "    # Read the input image\n",
    "    img = cv2.imread(image_path)\n",
    "    img = cv2.cvtColor(img, cv2.COLOR_BGR2RGB)  # Convert to RGB\n",
    "\n",
    "    # Step 1: Apply bilateral filter for smoothing\n",
    "    smooth_img = cv2.bilateralFilter(img, d=9, sigmaColor=75, sigmaSpace=75)\n",
    "\n",
    "    # Step 2: Convert to grayscale\n",
    "    gray_img = cv2.cvtColor(img, cv2.COLOR_RGB2GRAY)\n",
    "\n",
    "    # Step 3: Apply median blur to reduce noise\n",
    "    blurred_gray = cv2.medianBlur(gray_img, 7)\n",
    "\n",
    "    # Step 4: Detect edges using adaptive thresholding\n",
    "    edges = cv2.adaptiveThreshold(\n",
    "        blurred_gray, \n",
    "        255, \n",
    "        cv2.ADAPTIVE_THRESH_MEAN_C, \n",
    "        cv2.THRESH_BINARY, \n",
    "        blockSize=9, \n",
    "        C=2\n",
    "    )\n",
    "\n",
    "    # Step 5: Combine edges with the smoothed image\n",
    "    cartoon = cv2.bitwise_and(smooth_img, smooth_img, mask=edges)\n",
    "\n",
    "    # Save and display the result\n",
    "    cv2.imwrite(output_path, cv2.cvtColor(cartoon, cv2.COLOR_RGB2BGR))\n",
    "    print(f\"Cartoonized image saved at {output_path}\")\n",
    "\n",
    "# Example Usage\n",
    "cartoonize_image(\"cartoon.jpg\", \"output_cartoon.jpg\")"
   ]
  },
  {
   "cell_type": "code",
   "execution_count": null,
   "id": "27bd0ed2-3c2f-46cb-8725-3af7b733a3f6",
   "metadata": {},
   "outputs": [],
   "source": []
  }
 ],
 "metadata": {
  "kernelspec": {
   "display_name": "Python 3 (ipykernel)",
   "language": "python",
   "name": "python3"
  },
  "language_info": {
   "codemirror_mode": {
    "name": "ipython",
    "version": 3
   },
   "file_extension": ".py",
   "mimetype": "text/x-python",
   "name": "python",
   "nbconvert_exporter": "python",
   "pygments_lexer": "ipython3",
   "version": "3.13.1"
  }
 },
 "nbformat": 4,
 "nbformat_minor": 5
}
